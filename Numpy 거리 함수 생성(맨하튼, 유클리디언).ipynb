{
 "cells": [
  {
   "cell_type": "code",
   "execution_count": 1,
   "metadata": {},
   "outputs": [],
   "source": [
    "import numpy as np"
   ]
  },
  {
   "cell_type": "code",
   "execution_count": 12,
   "metadata": {},
   "outputs": [
    {
     "name": "stdout",
     "output_type": "stream",
     "text": [
      "0\n"
     ]
    }
   ],
   "source": [
    "X0 = np.array([[0,2],\n",
    "               [2,0],\n",
    "               [3,1],\n",
    "               [5,1]])# pattern matrix\n",
    "dim = 2# the number of attribute\n",
    "num = 4# the number of object\n",
    "mat = # result matrix(Proximity Matrix or Distance Matrix)\n",
    "\n",
    "\n",
    "print(mat)"
   ]
  },
  {
   "cell_type": "code",
   "execution_count": 25,
   "metadata": {},
   "outputs": [
    {
     "name": "stdout",
     "output_type": "stream",
     "text": [
      "[[0, 4, 4, 6], [4, 0, 2, 4], [4, 2, 0, 2], [6, 4, 2, 0]]\n"
     ]
    }
   ],
   "source": [
    "mat = []\n",
    "dim = len(X0[0])\n",
    "num = len(X0)\n",
    "temp = []\n",
    "\n",
    "for i in X0:\n",
    "    for j in X0:\n",
    "#         print(Manhattan(i, j))\n",
    "        temp.append(Manhattan(i,j))\n",
    "    mat.append(temp)\n",
    "    temp = []\n",
    "    \n",
    "        \n",
    "    \n",
    "        \n",
    "print(mat)"
   ]
  },
  {
   "cell_type": "code",
   "execution_count": 30,
   "metadata": {},
   "outputs": [
    {
     "name": "stdout",
     "output_type": "stream",
     "text": [
      "[[0.0, 2.828, 3.162, 5.099], [2.828, 0.0, 1.414, 3.162], [3.162, 1.414, 0.0, 2.0], [5.099, 3.162, 2.0, 0.0]]\n"
     ]
    }
   ],
   "source": [
    "mat = []\n",
    "dim = len(X0[0])\n",
    "num = len(X0)\n",
    "temp = []\n",
    "\n",
    "for i in X0:\n",
    "    for j in X0:\n",
    "#         print(Manhattan(i, j))\n",
    "        temp.append(Euclidean(i,j))\n",
    "    mat.append(temp)\n",
    "    temp = []\n",
    "    \n",
    "        \n",
    "    \n",
    "        \n",
    "print(mat)"
   ]
  },
  {
   "cell_type": "code",
   "execution_count": null,
   "metadata": {},
   "outputs": [],
   "source": [
    "# 실습 1.\n",
    "X0 = # pattern matrix\n",
    "dim = # the number of attribute\n",
    "num = # the number of object\n",
    "mat = # result matrix(Proximity Matrix or Distance Matrix)"
   ]
  },
  {
   "cell_type": "code",
   "execution_count": 10,
   "metadata": {},
   "outputs": [],
   "source": [
    "def Manhattan(x,y):\n",
    "    val = 0\n",
    "    val = np.sum(np.abs(x-y))\n",
    "    \n",
    "    return(val)"
   ]
  },
  {
   "cell_type": "code",
   "execution_count": 29,
   "metadata": {},
   "outputs": [],
   "source": [
    "def Euclidean(x,y):\n",
    "    val = 0\n",
    "    val = np.sqrt(np.sum(np.power(x-y, 2)))\n",
    "    \n",
    "    return (round(val,3))"
   ]
  },
  {
   "cell_type": "code",
   "execution_count": 14,
   "metadata": {},
   "outputs": [],
   "source": [
    "def Minkowski(x,y,r):\n",
    "    r = 10\n",
    "    val = 0\n",
    "    val = np.power(np.sum(np.power(x-y,r)), 1/r)\n",
    "    \n",
    "    return (val)"
   ]
  },
  {
   "cell_type": "code",
   "execution_count": null,
   "metadata": {},
   "outputs": [],
   "source": []
  }
 ],
 "metadata": {
  "kernelspec": {
   "display_name": "Python 3",
   "language": "python",
   "name": "python3"
  },
  "language_info": {
   "codemirror_mode": {
    "name": "ipython",
    "version": 3
   },
   "file_extension": ".py",
   "mimetype": "text/x-python",
   "name": "python",
   "nbconvert_exporter": "python",
   "pygments_lexer": "ipython3",
   "version": "3.7.6"
  }
 },
 "nbformat": 4,
 "nbformat_minor": 4
}
